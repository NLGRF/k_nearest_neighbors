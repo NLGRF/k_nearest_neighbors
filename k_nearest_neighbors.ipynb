{
 "cells": [
  {
   "cell_type": "code",
   "execution_count": 85,
   "metadata": {},
   "outputs": [],
   "source": [
    "import numpy as np\n",
    "\n",
    "class KNearestNeighbors():\n",
    "    def __init__(self, X_train, y_train, n_neighbors=40, weights = 'uniform'):\n",
    "    \n",
    "        self.X_train = X_train\n",
    "        self.y_train = y_train\n",
    "        \n",
    "        self.n_neighbors = n_neighbors\n",
    "        self.weights = weights\n",
    "        \n",
    "        self.class_num = 3\n",
    "\n",
    "        \n",
    "    def euclidian_distance(self, a, b):\n",
    "            \n",
    "        return np.sqrt(np.sum((a-b)**2, axis=1))\n",
    "    \n",
    "    \n",
    "    \n",
    "    def kneighbors(self, X_test, return_distance=False):\n",
    "       \n",
    "        dist = []\n",
    "        neigh_ind = []\n",
    "        \n",
    "        point_dist = [self.euclidian_distance(x_test, self.X_train) for x_test in X_test]\n",
    "\n",
    "        for row in point_dist:\n",
    "            enum_neigh = enumerate(row)\n",
    "            sorted_neigh = sorted(enum_neigh, key=lambda x: x[1])[:self.n_neighbors]\n",
    "    \n",
    "            ind_list = [tup[0] for tup in sorted_neigh]\n",
    "            dist_list = [tup[1] for tup in sorted_neigh]\n",
    "    \n",
    "            dist.append(dist_list)\n",
    "            neigh_ind.append(ind_list)\n",
    "        \n",
    "        if return_distance:\n",
    "            return np.array(dist), np.array(neigh_ind)\n",
    "        \n",
    "        return np.array(neigh_ind)\n",
    "         \n",
    "    \n",
    "    def predict(self, X_test):\n",
    "        \n",
    "        if self.weights=='uniform':\n",
    "            neighbors = self.kneighbors(X_test)\n",
    "            y_pred = np.array([np.argmax(np.bincount(self.y_train[neighbor])) for neighbor in neighbors])\n",
    "        \n",
    "            return y_pred\n",
    "    \n",
    "        if self.weights=='distance':\n",
    "        \n",
    "            dist, neigh_ind = self.kneighbors(X_test, return_distance=True)\n",
    "        \n",
    "            inv_dist = 1/dist\n",
    "            \n",
    "            mean_inv_dist = inv_dist / np.sum(inv_dist, axis=1)[:, np.newaxis]\n",
    "            \n",
    "            proba = []\n",
    "            \n",
    "            for i, row in enumerate(mean_inv_dist):\n",
    "                \n",
    "                row_pred = self.y_train[neigh_ind[i]]\n",
    "                \n",
    "                for k in range(self.class_num):\n",
    "                    indices = np.where(row_pred==k)\n",
    "                    prob_ind = np.sum(row[indices])\n",
    "                    proba.append(np.array(prob_ind))\n",
    "        \n",
    "            predict_proba = np.array(proba).reshape(X_test.shape[0], self.class_num)\n",
    "            \n",
    "            y_pred = np.array([np.argmax(item) for item in predict_proba])\n",
    "            \n",
    "            return y_pred\n",
    "            \n",
    "    def score(self, X_test, y_test):\n",
    "        y_pred = self.predict(X_test)\n",
    "        \n",
    "        return float(sum(y_pred == y_test))/ float(len(y_test))\n"
   ]
  },
  {
   "cell_type": "code",
   "execution_count": 79,
   "metadata": {},
   "outputs": [],
   "source": [
    "from sklearn.datasets import make_classification\n",
    "X, y = make_classification(n_samples = 1000, n_features=2, n_redundant=0, n_informative=2,\n",
    "                             n_clusters_per_class=1, n_classes=3, random_state=21)\n",
    "\n",
    "\n",
    "mu = np.mean(X, 0)\n",
    "sigma = np.std(X, 0)\n",
    "\n",
    "X = (X - mu ) / sigma"
   ]
  },
  {
   "cell_type": "code",
   "execution_count": 110,
   "metadata": {},
   "outputs": [],
   "source": [
    "from sklearn.datasets import load_iris\n",
    "\n",
    "dataset = load_iris()\n",
    "X = dataset.data\n",
    "y = dataset.target"
   ]
  },
  {
   "cell_type": "code",
   "execution_count": 111,
   "metadata": {},
   "outputs": [],
   "source": [
    "data = np.hstack((X, y[:, np.newaxis]))\n",
    "        \n",
    "np.random.shuffle(data)\n",
    "\n",
    "split_rate = 0.7\n",
    "\n",
    "train, test = np.split(data, [int(split_rate*(data.shape[0]))])\n",
    "\n",
    "X_train = train[:,:-1]\n",
    "y_train = train[:, -1]\n",
    "\n",
    "X_test = test[:,:-1]\n",
    "y_test = test[:, -1]\n",
    "\n",
    "y_train = y_train.astype(int)\n",
    "y_test = y_test.astype(int)"
   ]
  },
  {
   "cell_type": "code",
   "execution_count": 112,
   "metadata": {},
   "outputs": [],
   "source": [
    "knn = KNearestNeighbors(X_train, y_train, weights='uniform')"
   ]
  },
  {
   "cell_type": "code",
   "execution_count": 113,
   "metadata": {},
   "outputs": [
    {
     "data": {
      "text/plain": [
       "array([[104,  82,  69, ...,  34,  57,  42],\n",
       "       [ 47,  37,  63, ...,  67,   0,  79],\n",
       "       [ 10,  60,  42, ...,  66,  50,  14],\n",
       "       ...,\n",
       "       [ 51, 104,  25, ...,  85,  64,  80],\n",
       "       [ 41,  28,   2, ...,  67,   0,  68],\n",
       "       [ 58, 100,  74, ...,  61,  65,  19]])"
      ]
     },
     "execution_count": 113,
     "metadata": {},
     "output_type": "execute_result"
    }
   ],
   "source": [
    "knn.kneighbors(X_test)"
   ]
  },
  {
   "cell_type": "code",
   "execution_count": 114,
   "metadata": {},
   "outputs": [],
   "source": [
    "predicted_y = knn.predict(X_test)"
   ]
  },
  {
   "cell_type": "code",
   "execution_count": 115,
   "metadata": {},
   "outputs": [
    {
     "data": {
      "text/plain": [
       "array([1, 0, 1, 2, 1, 1, 1, 2, 0, 1, 1, 1, 2, 1, 2, 1, 2, 2, 0, 0, 0, 2,\n",
       "       1, 1, 1, 1, 2, 1, 0, 0, 0, 0, 2, 0, 0, 1, 1, 2, 2, 2, 0, 1, 2, 0,\n",
       "       1])"
      ]
     },
     "execution_count": 115,
     "metadata": {},
     "output_type": "execute_result"
    }
   ],
   "source": [
    "predicted_y"
   ]
  },
  {
   "cell_type": "code",
   "execution_count": 116,
   "metadata": {},
   "outputs": [
    {
     "data": {
      "text/plain": [
       "0.9111111111111111"
      ]
     },
     "execution_count": 116,
     "metadata": {},
     "output_type": "execute_result"
    }
   ],
   "source": [
    "knn.score(X_test, y_test)"
   ]
  },
  {
   "cell_type": "code",
   "execution_count": 86,
   "metadata": {},
   "outputs": [],
   "source": [
    "from sklearn.datasets import load_iris"
   ]
  },
  {
   "cell_type": "code",
   "execution_count": 93,
   "metadata": {},
   "outputs": [],
   "source": [
    "dataset = load_iris()"
   ]
  },
  {
   "cell_type": "code",
   "execution_count": 94,
   "metadata": {},
   "outputs": [],
   "source": [
    "X = dataset.data"
   ]
  },
  {
   "cell_type": "code",
   "execution_count": 96,
   "metadata": {},
   "outputs": [],
   "source": [
    "y = dataset.target"
   ]
  },
  {
   "cell_type": "code",
   "execution_count": 97,
   "metadata": {},
   "outputs": [
    {
     "data": {
      "text/plain": [
       "(150,)"
      ]
     },
     "execution_count": 97,
     "metadata": {},
     "output_type": "execute_result"
    }
   ],
   "source": []
  },
  {
   "cell_type": "code",
   "execution_count": null,
   "metadata": {},
   "outputs": [],
   "source": []
  }
 ],
 "metadata": {
  "kernelspec": {
   "display_name": "Python 3",
   "language": "python",
   "name": "python3"
  },
  "language_info": {
   "codemirror_mode": {
    "name": "ipython",
    "version": 3
   },
   "file_extension": ".py",
   "mimetype": "text/x-python",
   "name": "python",
   "nbconvert_exporter": "python",
   "pygments_lexer": "ipython3",
   "version": "3.7.3"
  }
 },
 "nbformat": 4,
 "nbformat_minor": 4
}
