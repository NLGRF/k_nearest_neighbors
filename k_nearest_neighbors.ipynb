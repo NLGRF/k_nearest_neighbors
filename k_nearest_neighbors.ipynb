{
 "cells": [
  {
   "cell_type": "code",
   "execution_count": 91,
   "metadata": {},
   "outputs": [],
   "source": [
    "import numpy as np\n",
    "\n",
    "class KNearestNeighbors():\n",
    "    def __init__(self, X, y, n_neighbors=5, weights = 'uniform', p=2, metric = 'minkowski'):\n",
    "        self.X = X\n",
    "        self.y = y\n",
    "        self.n_neighbors = n_neighbors\n",
    "        self.weights = weights\n",
    "        self.p = p\n",
    "        self.metric = metric\n",
    "        \n",
    "    def distance(self, x, y):\n",
    "      #  if self.p==2 & self.weights =='uniform':\n",
    "            \n",
    "        return np.sqrt(np.sum((x-y)**2, axis=1))\n",
    "    \n",
    "    def voting():\n",
    "        pass\n",
    "    \n",
    "    \n",
    "    \n",
    "    def kneighbors(self, X_test, return_distance=False):\n",
    "        neigh_ind = np.array([np.argsort(self.distance(x_test, X))[:self.n_neighbors] for x_test in X_test])\n",
    "        dist = np.array([np.sort(self.distance(x_test, X))[:self.n_neighbors] for x_test in X_test])\n",
    "        \n",
    "        if return_distance:\n",
    "            return dist, neigh_ind\n",
    "        \n",
    "        return neigh_ind\n",
    "    \n",
    "    def predict(self, X_test):\n",
    "        neighbors = self.kneighbors(X_test)\n",
    "        y_pred = np.array([np.argmax(np.bincount(y[neighbor])) for neighbor in neighbors])\n",
    "        \n",
    "        return y_pred\n",
    "    \n",
    "    def predict_proba(self,X):\n",
    "        pass\n",
    "    \n",
    "    def score(self, X, y):\n",
    "        pass\n"
   ]
  },
  {
   "cell_type": "code",
   "execution_count": 92,
   "metadata": {},
   "outputs": [],
   "source": [
    "from sklearn.datasets import make_classification\n",
    "X, y = make_classification(n_samples = 1000, n_features=2, n_redundant=0, n_informative=2,\n",
    "                             n_clusters_per_class=1, n_classes=3, random_state=21)\n",
    "\n",
    "\n",
    "mu = np.mean(X, 0)\n",
    "sigma = np.std(X, 0)\n",
    "\n"
   ]
  },
  {
   "cell_type": "code",
   "execution_count": 106,
   "metadata": {},
   "outputs": [],
   "source": [
    "knn = KNearestNeighbors(X, y)"
   ]
  },
  {
   "cell_type": "code",
   "execution_count": 153,
   "metadata": {},
   "outputs": [],
   "source": [
    "n = knn.predict([[1,2],[2,3], [-0.7,-1.1]])"
   ]
  },
  {
   "cell_type": "code",
   "execution_count": 154,
   "metadata": {},
   "outputs": [
    {
     "data": {
      "text/plain": [
       "(3,)"
      ]
     },
     "execution_count": 154,
     "metadata": {},
     "output_type": "execute_result"
    }
   ],
   "source": [
    "n.shape"
   ]
  },
  {
   "cell_type": "code",
   "execution_count": 155,
   "metadata": {},
   "outputs": [
    {
     "data": {
      "text/plain": [
       "array([0, 0, 2])"
      ]
     },
     "execution_count": 155,
     "metadata": {},
     "output_type": "execute_result"
    }
   ],
   "source": [
    "n"
   ]
  },
  {
   "cell_type": "code",
   "execution_count": 60,
   "metadata": {},
   "outputs": [
    {
     "data": {
      "text/plain": [
       "array([[[0.89136445, 1.92837291],\n",
       "        [0.87605038, 1.88236345],\n",
       "        [0.99383688, 1.8128406 ],\n",
       "        [0.82639348, 2.07056827],\n",
       "        [0.77210681, 2.06059441]],\n",
       "\n",
       "       [[1.48212723, 2.35517433],\n",
       "        [1.62766539, 2.2225935 ],\n",
       "        [1.51318685, 1.79572479],\n",
       "        [2.80391185, 1.96383103],\n",
       "        [1.21224695, 1.75865329]]])"
      ]
     },
     "execution_count": 60,
     "metadata": {},
     "output_type": "execute_result"
    }
   ],
   "source": [
    "X[n]"
   ]
  },
  {
   "cell_type": "code",
   "execution_count": 149,
   "metadata": {},
   "outputs": [
    {
     "data": {
      "text/plain": [
       "(array([[ 1.74929402,  0.68040021],\n",
       "        [-0.71052614,  0.72434899],\n",
       "        [-0.78379194, -1.11312347],\n",
       "        ...,\n",
       "        [-2.39382569,  2.15217557],\n",
       "        [ 1.62359469, -0.3126842 ],\n",
       "        [-0.16292017,  1.20081947]]),\n",
       " array([0, 1, 2, 0, 1, 2, 0, 1, 0, 0, 0, 0, 2, 0, 1, 1, 2, 1, 2, 0, 0, 2,\n",
       "        2, 0, 2, 0, 1, 2, 2, 1, 0, 0, 0, 1, 1, 0, 0, 1, 2, 0, 2, 1, 1, 2,\n",
       "        0, 0, 2, 0, 0, 1, 2, 2, 0, 1, 1, 0, 1, 2, 0, 0, 0, 1, 2, 2, 2, 2,\n",
       "        1, 2, 0, 2, 1, 0, 2, 2, 0, 2, 2, 1, 1, 0, 0, 1, 1, 0, 2, 2, 1, 0,\n",
       "        1, 2, 0, 0, 2, 1, 2, 0, 2, 1, 0, 1, 2, 0, 2, 2, 1, 1, 2, 2, 0, 2,\n",
       "        2, 0, 2, 0, 0, 2, 2, 2, 2, 0, 1, 1, 2, 2, 0, 0, 2, 2, 0, 0, 1, 1,\n",
       "        2, 2, 1, 2, 1, 0, 2, 2, 1, 2, 1, 0, 0, 0, 1, 2, 1, 1, 1, 1, 2, 2,\n",
       "        1, 2, 1, 2, 1, 2, 1, 1, 2, 2, 0, 2, 1, 1, 0, 2, 2, 0, 2, 2, 0, 0,\n",
       "        2, 2, 0, 2, 0, 0, 1, 2, 1, 1, 1, 0, 0, 2, 1, 2, 1, 2, 2, 0, 1, 2,\n",
       "        0, 1, 1, 0, 1, 1, 0, 1, 2, 2, 1, 2, 1, 2, 0, 1, 2, 1, 1, 0, 2, 0,\n",
       "        0, 2, 2, 1, 2, 1, 0, 0, 2, 2, 0, 0, 0, 2, 1, 0, 0, 2, 1, 1, 1, 0,\n",
       "        1, 0, 1, 0, 1, 2, 2, 0, 2, 0, 1, 2, 2, 0, 2, 1, 2, 2, 0, 0, 1, 1,\n",
       "        0, 1, 2, 1, 2, 2, 0, 0, 1, 2, 0, 1, 2, 1, 2, 2, 0, 2, 2, 0, 2, 1,\n",
       "        0, 1, 1, 0, 0, 1, 2, 1, 0, 2, 2, 1, 2, 1, 2, 1, 1, 2, 1, 0, 2, 1,\n",
       "        1, 1, 0, 0, 0, 1, 0, 0, 0, 2, 0, 2, 0, 2, 0, 1, 1, 0, 0, 2, 0, 0,\n",
       "        2, 1, 1, 1, 2, 2, 1, 2, 1, 0, 1, 1, 0, 1, 1, 1, 0, 0, 0, 1, 1, 2,\n",
       "        0, 2, 2, 2, 2, 1, 1, 2, 1, 1, 2, 1, 2, 1, 0, 2, 2, 1, 0, 2, 2, 0,\n",
       "        2, 2, 1, 2, 0, 0, 1, 0, 2, 1, 0, 0, 2, 1, 2, 0, 1, 1, 0, 0, 0, 0,\n",
       "        2, 0, 0, 1, 2, 0, 2, 2, 2, 0, 2, 1, 1, 0, 1, 0, 0, 0, 1, 2, 1, 0,\n",
       "        1, 2, 2, 1, 0, 1, 1, 1, 0, 1, 1, 1, 0, 1, 1, 2, 1, 0, 1, 1, 0, 0,\n",
       "        1, 2, 1, 2, 1, 0, 2, 2, 2, 1, 2, 0, 2, 1, 0, 1, 2, 0, 0, 0, 1, 1,\n",
       "        1, 1, 0, 1, 2, 1, 1, 1, 0, 0, 2, 1, 0, 2, 2, 1, 2, 0, 0, 2, 2, 1,\n",
       "        2, 0, 0, 0, 2, 2, 1, 1, 2, 0, 0, 1, 1, 1, 2, 2, 2, 2, 1, 0, 1, 1,\n",
       "        2, 1, 0, 2, 0, 1, 1, 0, 2, 2, 0, 1, 2, 2, 1, 2, 1, 1, 0, 1, 0, 0,\n",
       "        2, 0, 1, 0, 1, 2, 0, 1, 0, 0, 2, 0, 0, 0, 0, 2, 0, 0, 1, 0, 2, 1,\n",
       "        1, 0, 2, 0, 0, 2, 2, 0, 0, 1, 1, 2, 2, 0, 1, 1, 0, 2, 0, 1, 2, 1,\n",
       "        1, 2, 0, 0, 1, 2, 2, 1, 0, 0, 0, 1, 0, 1, 2, 2, 2, 2, 2, 0, 1, 2,\n",
       "        2, 2, 1, 1, 1, 2, 2, 0, 2, 1, 1, 2, 1, 2, 1, 1, 2, 1, 1, 1, 1, 0,\n",
       "        2, 1, 2, 1, 1, 2, 1, 1, 0, 1, 1, 1, 2, 1, 2, 1, 2, 0, 2, 0, 1, 2,\n",
       "        2, 2, 2, 0, 1, 0, 0, 2, 0, 0, 0, 2, 0, 2, 2, 2, 0, 0, 2, 1, 0, 0,\n",
       "        2, 0, 0, 2, 0, 2, 1, 0, 1, 0, 2, 2, 2, 0, 0, 2, 2, 1, 2, 0, 1, 1,\n",
       "        1, 2, 0, 0, 1, 1, 2, 0, 2, 1, 2, 2, 0, 2, 1, 1, 2, 0, 0, 1, 0, 1,\n",
       "        1, 0, 2, 0, 0, 0, 1, 2, 0, 0, 0, 2, 0, 2, 1, 2, 0, 1, 1, 0, 1, 1,\n",
       "        1, 2, 0, 0, 0, 0, 0, 1, 2, 0, 1, 2, 1, 1, 1, 2, 1, 2, 1, 0, 0, 2,\n",
       "        0, 1, 1, 1, 1, 1, 0, 0, 0, 0, 2, 1, 1, 2, 2, 2, 2, 1, 2, 1, 0, 1,\n",
       "        2, 0, 0, 0, 1, 1, 2, 1, 0, 0, 0, 1, 2, 2, 2, 2, 1, 1, 2, 0, 2, 0,\n",
       "        1, 1, 2, 2, 2, 0, 2, 1, 1, 2, 0, 1, 0, 0, 0, 1, 0, 2, 1, 2, 2, 2,\n",
       "        2, 0, 2, 0, 1, 2, 0, 0, 2, 2, 2, 2, 0, 2, 0, 0, 0, 0, 0, 0, 2, 2,\n",
       "        0, 1, 0, 0, 1, 0, 1, 0, 1, 2, 1, 2, 0, 1, 2, 0, 0, 0, 2, 1, 2, 2,\n",
       "        0, 1, 0, 2, 1, 0, 0, 2, 2, 1, 2, 0, 2, 0, 1, 1, 2, 0, 0, 0, 2, 0,\n",
       "        0, 0, 2, 0, 1, 2, 0, 2, 1, 2, 2, 1, 0, 0, 2, 0, 1, 1, 1, 1, 0, 1,\n",
       "        2, 0, 2, 0, 1, 1, 1, 1, 1, 0, 0, 2, 2, 2, 1, 1, 0, 2, 2, 2, 2, 2,\n",
       "        2, 2, 0, 1, 1, 2, 0, 1, 1, 2, 1, 0, 1, 2, 1, 0, 2, 1, 1, 2, 0, 2,\n",
       "        0, 2, 1, 0, 2, 0, 0, 2, 1, 1, 1, 0, 0, 2, 0, 0, 1, 2, 0, 1, 1, 0,\n",
       "        1, 0, 1, 0, 1, 1, 1, 0, 0, 2, 1, 0, 1, 1, 1, 2, 1, 0, 2, 0, 2, 2,\n",
       "        1, 0, 1, 1, 1, 2, 1, 1, 0, 0]))"
      ]
     },
     "execution_count": 149,
     "metadata": {},
     "output_type": "execute_result"
    }
   ],
   "source": [
    "X,y"
   ]
  },
  {
   "cell_type": "code",
   "execution_count": null,
   "metadata": {},
   "outputs": [],
   "source": []
  }
 ],
 "metadata": {
  "kernelspec": {
   "display_name": "Python 3",
   "language": "python",
   "name": "python3"
  },
  "language_info": {
   "codemirror_mode": {
    "name": "ipython",
    "version": 3
   },
   "file_extension": ".py",
   "mimetype": "text/x-python",
   "name": "python",
   "nbconvert_exporter": "python",
   "pygments_lexer": "ipython3",
   "version": "3.7.3"
  }
 },
 "nbformat": 4,
 "nbformat_minor": 4
}
